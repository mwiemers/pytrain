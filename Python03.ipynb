{
 "cells": [
  {
   "cell_type": "markdown",
   "metadata": {},
   "source": [
    "# Python 3: Data types and converting\n",
    "\n",
    "So far you have learned how to use numerical and string variables in Python.\n",
    "\n",
    "In this session, you will learn:\n",
    "- a new data type: Booleans\n",
    "- data types to represent different numerical values\n",
    "- how to convert between data types\n",
    "\n",
    "&nbsp;\n",
    "\n",
    "<img src=\"https://www.dropbox.com/s/w4wwz03ihq9qdsg/convertible.jpg?raw=1\" width=85%>\n",
    "\n",
    "&nbsp;"
   ]
  },
  {
   "cell_type": "markdown",
   "metadata": {},
   "source": [
    "### Task 1\n",
    "\n",
    "We want to build a data entry for Sheldon from The Big Bang Theory. We are going to start with three variables:\n",
    "- **name**: Sheldon Cooper\n",
    "- **height**: 1.86\n",
    "- **iq**: 187\n"
   ]
  },
  {
   "cell_type": "code",
   "execution_count": null,
   "metadata": {},
   "outputs": [],
   "source": []
  },
  {
   "cell_type": "markdown",
   "metadata": {},
   "source": [
    "## New data type: Booleans\n",
    "\n",
    "Booleans only have two possible values: True or False. Booleans are often used in data science for variables that can have excatly those two values.\n",
    "\n",
    "To create a boolean variable, you simply assign a capital True or False to the variable!\n",
    "\n",
    "### Task 2\n",
    "\n",
    "Let's add two more variables to describe Sheldon:\n",
    "- **is_socially_awkward**: True\n",
    "- **is_crazy**: False (his mother had him tested...)"
   ]
  },
  {
   "cell_type": "code",
   "execution_count": 1,
   "metadata": {},
   "outputs": [],
   "source": []
  },
  {
   "cell_type": "markdown",
   "metadata": {},
   "source": [
    "### The type() function\n",
    "\n",
    "To find out the type of data in Python you can use the <span style=\"font-family:consolas;font-weight:bold\">type()</span> function.\n",
    "\n",
    "See the two examples below,"
   ]
  },
  {
   "cell_type": "code",
   "execution_count": null,
   "metadata": {},
   "outputs": [],
   "source": [
    "print(type(True))"
   ]
  },
  {
   "cell_type": "code",
   "execution_count": null,
   "metadata": {},
   "outputs": [],
   "source": [
    "name = \"Sheldon Cooper\" \n",
    "print(type(name))"
   ]
  },
  {
   "cell_type": "markdown",
   "metadata": {},
   "source": [
    "### Task 3\n",
    "\n",
    "What are the different types of the variables you have created in task 1 and 2? \n",
    "\n",
    "Print the type of each variable!"
   ]
  },
  {
   "cell_type": "code",
   "execution_count": null,
   "metadata": {},
   "outputs": [],
   "source": []
  },
  {
   "cell_type": "markdown",
   "metadata": {},
   "source": [
    "&nbsp;\n",
    "\n",
    "There are two data types for numerical values. Write in the code block below the data type and which type of numerical values it is used to represent."
   ]
  },
  {
   "cell_type": "code",
   "execution_count": null,
   "metadata": {},
   "outputs": [],
   "source": [
    "# numerical data type 1:\n",
    "# numerical data type 2:"
   ]
  },
  {
   "cell_type": "markdown",
   "metadata": {},
   "source": [
    "\n",
    "&nbsp;\n",
    "\n",
    "&nbsp;\n",
    "\n",
    "## Converting between data types\n",
    "\n",
    "You can convert between different data types in Python using a specific set of functions. You can for instance convert a number into a string or vice versa. For each data type in Python there is a particular function which will convert data into that particular type.\n",
    "\n",
    "You might be wondering why would you have to convert from one type to another?\n",
    "\n",
    "### Combining strings with other variable types\n",
    "\n",
    "Try to run the print statement below. It will produce what is called a <span style=\"color:red;font-weight:bold;\">Type Error</span>, which occurs when your code is trying to carry out an operation on a data type that Python does not support.\n",
    "For instance, Python doesn't support the combination of strings and booleans with the **+** operator."
   ]
  },
  {
   "cell_type": "code",
   "execution_count": null,
   "metadata": {},
   "outputs": [],
   "source": [
    "bool01 = True\n",
    "print(\"That is \" + bool01)"
   ]
  },
  {
   "cell_type": "markdown",
   "metadata": {},
   "source": [
    "### Task 4\n",
    "\n",
    "You can however convert a boolean into a string with the str() function!\n",
    "\n",
    "1. Use the str() function to convert **bool01** to a string and assign that string to a new variable **bool01_str** \n",
    "2. Print the type of **bool01_str**\n",
    "2. Update the print statement"
   ]
  },
  {
   "cell_type": "code",
   "execution_count": null,
   "metadata": {},
   "outputs": [],
   "source": [
    "bool01 = True\n",
    "\n",
    "# Convert bool01 to the string variable bool01_str\n",
    "\n",
    "\n",
    "# Print the type of bool01_str\n",
    "\n",
    "\n",
    "# Adjust the print statement to print the string \"This is True\". \n",
    "print(\"This is \" + bool01)"
   ]
  },
  {
   "cell_type": "markdown",
   "metadata": {},
   "source": [
    "### Task 5\n",
    "\n",
    "Python also doesn't support the combination of strings and numbers with the **+** operator.\n",
    "\n",
    "Can you fix the below code block so that the print statement prints the below message?\n",
    "\n",
    "<p style=\"font-family:consolas;font-weight:bold\">Martha's age is 32</p>"
   ]
  },
  {
   "cell_type": "code",
   "execution_count": null,
   "metadata": {},
   "outputs": [],
   "source": [
    "age = 32\n",
    "print(\"Martha's age is \" age)"
   ]
  },
  {
   "cell_type": "markdown",
   "metadata": {},
   "source": [
    "### Task 6\n",
    "\n",
    "Write a program that asks the user to enter their age and prints as output the age difference between your age and the user's age. \n",
    "\n",
    "1. Ask the user to enter his age and store the value in the variable user_age.\n",
    "2. Search online to find out how to convert a string to integer in Python.\n",
    "3. Convert the user_age variable to integer.\n",
    "4. Calculate the absolute value of the age difference between your age and the user's age using the **abs()** function. See below for an example of how to use the abs() function.\n",
    "\n",
    "```python\n",
    "x = abs(7-10)\n",
    "print(x)\n",
    "```\n",
    "    3\n",
    "\n",
    "5. Print a message about the age difference between you and the user.\n"
   ]
  },
  {
   "cell_type": "code",
   "execution_count": null,
   "metadata": {},
   "outputs": [],
   "source": [
    "# ask user to enter their age\n",
    "\n",
    "\n",
    "# convert age to integer type\n",
    "\n",
    "\n",
    "# calculate absolute age difference between user and you using the abs() function\n",
    "\n",
    "\n",
    "# print message about the age difference\n",
    "\n"
   ]
  },
  {
   "cell_type": "markdown",
   "metadata": {},
   "source": [
    "### Task 7\n",
    "\n",
    "Finish the division program that asks the user to enter two numbers and prints as output a message like below:\n",
    "\n",
    "<p style=\"font-family:consolas;font-weight:bold\">7 * 2.5 = 17.5</p>\n",
    "\n",
    "Test the program and enter the numbers 7 and 2.5. Does it return the correct message as an output?"
   ]
  },
  {
   "cell_type": "code",
   "execution_count": null,
   "metadata": {},
   "outputs": [],
   "source": [
    "# user input for two numbers\n",
    "n1 = input(\"Enter first number:\")\n",
    "n2 = input(\"Enter second number:\")\n",
    "\n",
    "# calculate product of both numbers\n",
    "prod = n1*n2\n",
    "\n",
    "# Print the expression and the result  \n",
    "print()"
   ]
  },
  {
   "cell_type": "markdown",
   "metadata": {},
   "source": [
    "&nbsp;\n",
    "\n",
    "## A bit more on Booleans \n",
    "\n",
    "Booleans are not actually stored as the text values *true* and *false*. You computer stores them as the numbers 0 (false) and 1 (true). Knowing this can you predict the output of the print statement?"
   ]
  },
  {
   "cell_type": "code",
   "execution_count": null,
   "metadata": {},
   "outputs": [],
   "source": [
    "print(True + 1)"
   ]
  },
  {
   "cell_type": "markdown",
   "metadata": {},
   "source": [
    "&nbsp;\n",
    "\n",
    "Can you predict the output for the next two print statements?"
   ]
  },
  {
   "cell_type": "code",
   "execution_count": null,
   "metadata": {},
   "outputs": [],
   "source": [
    "print(\"Hello world! \" * ((True+True)**3))"
   ]
  },
  {
   "cell_type": "code",
   "execution_count": null,
   "metadata": {},
   "outputs": [],
   "source": [
    "print(\"Hello world!\" * False)"
   ]
  },
  {
   "cell_type": "markdown",
   "metadata": {},
   "source": [
    "\n",
    "&nbsp;\n",
    "\n",
    "&nbsp;\n",
    "\n",
    "## Final task - Please give us your feedback!\n",
    "\n",
    "This is the first time that we are exploring a remote learning format for our workshops and we would be grateful if you could take **1 min** before the end of the workshop to get your feedback!\n",
    "\n",
    "[Click here to open the survey!](https://lse.eu.qualtrics.com/jfe/form/SV_9zagWkOtzNhmqt7?course=D022-P1NV&topic=Python&cohort=PILOT)"
   ]
  },
  {
   "cell_type": "markdown",
   "metadata": {},
   "source": [
    "\n",
    "&nbsp;\n",
    "\n",
    "&nbsp;\n",
    "\n",
    "## Individual coding challenge: Odd number detector\n",
    "\n",
    "Your task is to write a program that asks the user to enter a number. As output the program should print a message that says whether it is True of False that the number is odd like below.\n",
    "\n",
    "<p style=\"font-family:consolas;font-weight:bold\">The number 8 is odd: False!</p>\n",
    "\n",
    "Hints:\n",
    "1. You can use the modulo operator to calculate the remainder of a division. Search online how to use it.\n",
    "2. You can use the remainder of the division for the final part of the message by converting it to another type.\n",
    "\n",
    "\n",
    "\n"
   ]
  },
  {
   "cell_type": "code",
   "execution_count": null,
   "metadata": {},
   "outputs": [],
   "source": []
  }
 ],
 "metadata": {
  "kernelspec": {
   "display_name": "Python 3",
   "language": "python",
   "name": "python3"
  },
  "language_info": {
   "codemirror_mode": {
    "name": "ipython",
    "version": 3
   },
   "file_extension": ".py",
   "mimetype": "text/x-python",
   "name": "python",
   "nbconvert_exporter": "python",
   "pygments_lexer": "ipython3",
   "version": "3.8.3"
  }
 },
 "nbformat": 4,
 "nbformat_minor": 2
}
