{
 "cells": [
  {
   "cell_type": "markdown",
   "metadata": {},
   "source": [
    "# Python 3: Data types and converting\n",
    "\n",
    "- there are several built-in data types in Python. So far you know about numbers and strings\n",
    "- As you will see in this session, numbers can be of either the integer (whole numbers) or float (decimal numbers) type\n",
    "- \n",
    "\n",
    "\n",
    "<img src=\"https://www.dropbox.com/s/ebq49dqp64n79hi/elon_meme.jpg?raw=1\" width=50%>"
   ]
  },
  {
   "cell_type": "markdown",
   "metadata": {},
   "source": [
    "### Task 1\n",
    "\n",
    "We want to build a data entry for Sheldon from The Big Bang Theory. We are going to start with three variables:\n",
    "- **name** should be Sheldon Cooper\n",
    "- **height** should be 1.86\n",
    "- **iq** should be 187\n"
   ]
  },
  {
   "cell_type": "code",
   "execution_count": null,
   "metadata": {},
   "outputs": [],
   "source": []
  },
  {
   "cell_type": "markdown",
   "metadata": {},
   "source": [
    "## New data type: Booleans\n",
    "\n",
    "Booleans only have two possible values: True or False. Booleans are often used in data science for variables that can have excatly those two values.\n",
    "\n",
    "To create a boolean variable, you simply assign a capital True or False to the variable!\n",
    "\n",
    "### Task 2\n",
    "\n",
    "Let's add two more variables to describe Sheldon:\n",
    "- **is_socially_awkward** should be True\n",
    "- **is_crazy** should be False (We know that, since his mother had him tested)"
   ]
  },
  {
   "cell_type": "code",
   "execution_count": 1,
   "metadata": {},
   "outputs": [],
   "source": []
  },
  {
   "cell_type": "markdown",
   "metadata": {},
   "source": [
    "### The type() function\n",
    "\n",
    "To find out the type of data in Python you can use the <span style=\"font-family:consolas;font-weight:bold\">type()</span> function.\n",
    "\n",
    "See the two examples below,"
   ]
  },
  {
   "cell_type": "code",
   "execution_count": null,
   "metadata": {},
   "outputs": [],
   "source": [
    "print(type(True))"
   ]
  },
  {
   "cell_type": "code",
   "execution_count": null,
   "metadata": {},
   "outputs": [],
   "source": [
    "name = \"Sheldon Cooper\" \n",
    "print(type(name))"
   ]
  },
  {
   "cell_type": "markdown",
   "metadata": {},
   "source": [
    "### Task 3\n",
    "\n",
    "What are the different types of the variables you have created in task 1 and 2? \n",
    "\n",
    "Print the type of each variable!"
   ]
  },
  {
   "cell_type": "code",
   "execution_count": null,
   "metadata": {},
   "outputs": [],
   "source": []
  },
  {
   "cell_type": "markdown",
   "metadata": {},
   "source": [
    "\n",
    "&nbsp;\n",
    "\n",
    "&nbsp;\n",
    "\n",
    "## Converting between data types\n",
    "\n",
    "You can convert between different data types in Python using a specific set of functions. You can for instance convert a number into a string or vice versa. This is often also referred to as type casting. For each data type in Python there is a particular function which will convert data into that particular type.\n",
    "\n",
    "You might be wondering why would you have to convert from one type to another?\n",
    "\n",
    "### Combining strings with other variable types\n",
    "\n",
    "Try to run the print statement below. It will produce what is called a <span style=\"color:red;font-weight:bold;\">Type Error</span>, which occurs when your code is trying to carry out an operation on a data type that Python does not support.\n",
    "For instance, Python doesn't support the combination of strings and booleans with the **+** operator."
   ]
  },
  {
   "cell_type": "code",
   "execution_count": null,
   "metadata": {},
   "outputs": [],
   "source": [
    "bool01 = True\n",
    "print(\"That is \" + bool01)"
   ]
  },
  {
   "cell_type": "markdown",
   "metadata": {},
   "source": [
    "### Task 4\n",
    "\n",
    "You can however convert a boolean into a string with the str() function!\n",
    "\n",
    "1. Use the str() function to convert **bool01** to a string and assign that string to a new variable **bool01_str** \n",
    "2. Print the type of **bool01_str**\n",
    "2. Update the print statement"
   ]
  },
  {
   "cell_type": "code",
   "execution_count": null,
   "metadata": {},
   "outputs": [],
   "source": [
    "bool01 = True\n",
    "print(\"This is \" + bool01)"
   ]
  },
  {
   "cell_type": "markdown",
   "metadata": {},
   "source": [
    "### Task 5\n",
    "\n",
    "Python also doesn't support the combination of strings and numbers with the **+** operator.\n",
    "\n",
    "Can you fix both errors in the below code block so that the print statement prints the below message?\n",
    "\n",
    "<p style=\"font-family:consolas;font-weight:bold\">Martha's age is 32</p>"
   ]
  },
  {
   "cell_type": "code",
   "execution_count": null,
   "metadata": {},
   "outputs": [],
   "source": [
    "age = 32\n",
    "print(\"Martha's age is \" age)"
   ]
  },
  {
   "cell_type": "markdown",
   "metadata": {},
   "source": [
    "### Task 6\n",
    "\n",
    "Write a program that asks the user to enter their age and prints as output the age difference between your age the user's age. \n",
    "\n",
    "1. Ask the user to enter his age and store the value in the variable user_age\n",
    "2. Search online to find out how to convert a string to integer in Python\n",
    "3. Convert the user_age variable to integer\n",
    "4. Calculate the absolute value of the age difference between your age and the user's age using the **abs()** function\n",
    "5. Print a message about the age difference between you and the user\n"
   ]
  },
  {
   "cell_type": "code",
   "execution_count": null,
   "metadata": {},
   "outputs": [],
   "source": []
  },
  {
   "cell_type": "markdown",
   "metadata": {},
   "source": [
    "### Task 7\n",
    "\n",
    "What happens when yo "
   ]
  },
  {
   "cell_type": "markdown",
   "metadata": {},
   "source": [
    "### Task 8\n",
    "\n",
    "Write a multiplication program that asks the user to enter two numbers and prints as output a message like below:\n",
    "\n",
    "<p style=\"font-family:consolas;font-weight:bold\">The product of 7 and 2.5 is 17.5</p>\n",
    "\n"
   ]
  },
  {
   "cell_type": "code",
   "execution_count": null,
   "metadata": {},
   "outputs": [],
   "source": []
  },
  {
   "cell_type": "markdown",
   "metadata": {},
   "source": [
    "### A bit more on Booleans "
   ]
  },
  {
   "cell_type": "code",
   "execution_count": null,
   "metadata": {},
   "outputs": [],
   "source": [
    "print(True + 1)"
   ]
  },
  {
   "cell_type": "code",
   "execution_count": 8,
   "metadata": {},
   "outputs": [
    {
     "name": "stdout",
     "output_type": "stream",
     "text": [
      "2\n"
     ]
    }
   ],
   "source": [
    "print(True + 1)"
   ]
  },
  {
   "cell_type": "markdown",
   "metadata": {},
   "source": [
    "What - True + 1 = 2?! This all makes sense when"
   ]
  },
  {
   "cell_type": "code",
   "execution_count": 10,
   "metadata": {},
   "outputs": [
    {
     "name": "stdout",
     "output_type": "stream",
     "text": [
      "Will this work?\n"
     ]
    }
   ],
   "source": [
    "print(\"Will this work?\" * True)"
   ]
  },
  {
   "cell_type": "code",
   "execution_count": null,
   "metadata": {},
   "outputs": [],
   "source": [
    "print(\"Will this work?\" * False)"
   ]
  },
  {
   "cell_type": "code",
   "execution_count": null,
   "metadata": {},
   "outputs": [],
   "source": []
  },
  {
   "cell_type": "markdown",
   "metadata": {},
   "source": [
    "## Take home task: Odd-even detector\n",
    "\n",
    "Your task is to write a program that asks the user to enter a number and prints as output a message that says whether it is True of False that the number is odd.\n",
    "\n",
    "Your program broken down into steps:\n",
    "\n",
    "1. Ask the user to enter a whole number.\n",
    "\n",
    "2. Conver the number to the integer type.\n",
    "\n",
    "3. Use the modulo operator to calculate the remainder for dividing the number by 2. (Search online for how to use the modulo operator to calcualte the remainder of a division)\n",
    "\n",
    "4. Print a message as a final output that looks as the example when entering number 8 below:\n",
    "\n",
    "<p style=\"font-family:consolas;font-weight:bold\">The number 8 is odd: False!</p>\n"
   ]
  },
  {
   "cell_type": "code",
   "execution_count": null,
   "metadata": {},
   "outputs": [],
   "source": []
  }
 ],
 "metadata": {
  "kernelspec": {
   "display_name": "Python 3",
   "language": "python",
   "name": "python3"
  },
  "language_info": {
   "codemirror_mode": {
    "name": "ipython",
    "version": 3
   },
   "file_extension": ".py",
   "mimetype": "text/x-python",
   "name": "python",
   "nbconvert_exporter": "python",
   "pygments_lexer": "ipython3",
   "version": "3.7.4"
  }
 },
 "nbformat": 4,
 "nbformat_minor": 2
}
