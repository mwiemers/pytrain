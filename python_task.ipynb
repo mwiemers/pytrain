{
 "cells": [
  {
   "cell_type": "markdown",
   "metadata": {},
   "source": [
    "# Print numbers smaller than three or larger than 8"
   ]
  },
  {
   "cell_type": "code",
   "execution_count": null,
   "metadata": {},
   "outputs": [],
   "source": [
    "seq = [3,5,9,1,2,4,3,5,6,3,8,9,10,11,12]\n",
    "\n",
    "# first attempt\n",
    "if seq < 3 or i > 8:\n",
    "    print(i)\n",
    "\n",
    "\n",
    "#solution\n",
    "for i in seq:\n",
    "    if i < 3 or i > 8:\n",
    "        print(\"Yes\")\n"
   ]
  }
 ],
 "metadata": {
  "kernelspec": {
   "display_name": "Python 3",
   "language": "python",
   "name": "python3"
  },
  "language_info": {
   "codemirror_mode": {
    "name": "ipython",
    "version": 3
   },
   "file_extension": ".py",
   "mimetype": "text/x-python",
   "name": "python",
   "nbconvert_exporter": "python",
   "pygments_lexer": "ipython3",
   "version": "3.8.3"
  }
 },
 "nbformat": 4,
 "nbformat_minor": 4
}
