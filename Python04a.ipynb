{
 "cells": [
  {
   "cell_type": "markdown",
   "metadata": {},
   "source": [
    "# Python 4a: Lists"
   ]
  },
  {
   "cell_type": "markdown",
   "metadata": {},
   "source": [
    "In this workshop you will learn about lists. Lists are one of the most common Python objects and you will come across them in scripts for many types of purposes. In short, a list is an object that enables you to store multiple values. One of the key features of lists is that they can contain any type of Python object.  \n",
    "\n",
    "This workshop will teach you how to:\n",
    "- create lists\n",
    "- select a subset of elements from a list (indexing)\n",
    "\n",
    "&nbsp;\n",
    "\n",
    "<img src=\"https://secure.i.telegraph.co.uk/multimedia/archive/03052/nick-pic-cave_3052393b.jpg\">\n",
    "\n",
    "Credit: Arts Centre Melbourne"
   ]
  },
  {
   "cell_type": "markdown",
   "metadata": {},
   "source": [
    "&nbsp;\n",
    "\n",
    "\n",
    "## Creating lists\n",
    "\n"
   ]
  },
  {
   "cell_type": "markdown",
   "metadata": {},
   "source": [
    "Below is the example code of how to create a **list** in Python. \n",
    "- The **brackets** indicate the start and end of the list. \n",
    "- The **comma** acts as a separator between each element.\n",
    "\n",
    "```python\n",
    "mj_no1hits = [\"Bad\", \"Billie Jean\", \"Dirty Diana\", \"Man in the Mirror\", \"You Are Not Alone\"]\n",
    "```\n",
    "\n",
    "### Task 1 - Michael Jackson albums\n",
    "\n",
    "1. Create a list **mj_lps** with the values *Off the Wall, Thriller, Bad, Dangerous, History, Invincible, Michael, Worldwide*\n",
    "2. Print the list"
   ]
  },
  {
   "cell_type": "code",
   "execution_count": 2,
   "metadata": {},
   "outputs": [],
   "source": [
    "mj_lps = "
   ]
  },
  {
   "cell_type": "markdown",
   "metadata": {},
   "source": [
    "\n",
    "\n",
    "### Task 2 - Adding sold units\n",
    "\n",
    "With lists you can combine **any objects** in Python!\n",
    "\n",
    "The first version of the **mj_lps** list consists of only album names. Use the variables below to add the **number of sold units (in Million)** after each album in the **mj_lps** list."
   ]
  },
  {
   "cell_type": "markdown",
   "metadata": {},
   "source": [
    "The printed list should look like this\n",
    "<pre>\n",
    "['Off the Wall', 20, 'Thriller', 66, 'Bad', 35, 'Dangerous', 32, 'History', 22, 'Invincible', 6, 'Michael', 0.7, 'Xscape', 1.7]\n",
    "</pre>\n",
    "\n",
    "&nbsp;\n",
    "\n",
    "\n",
    "1. Copy paste your code to create the **mj_lps** list from the previous exercise\n",
    "2. Use the variables to add the number of sold units (in Million) after each album name.\n",
    "\n"
   ]
  },
  {
   "cell_type": "code",
   "execution_count": null,
   "metadata": {},
   "outputs": [],
   "source": [
    "# number of sold units in Million for each album\n",
    "off_the_wall = 20\n",
    "thriller = 66\n",
    "bad = 35\n",
    "dangerous = 32\n",
    "history = 22\n",
    "invincible = 6\n",
    "michael = 0.7\n",
    "xscape = 1.7"
   ]
  },
  {
   "cell_type": "code",
   "execution_count": null,
   "metadata": {},
   "outputs": [],
   "source": [
    "mj_lps = "
   ]
  },
  {
   "cell_type": "markdown",
   "metadata": {},
   "source": [
    "\n",
    "&nbsp;\n",
    "\n",
    "## Indexing list\n",
    "\n",
    "The elements within a list can be accessed with **square brackets** following the list name. The **number inside the square brackets** indicates the position of the element from the list you want to select.\n",
    "\n",
    "Run the command. Which element from the **mj_lps** list do you expect to be printed?"
   ]
  },
  {
   "cell_type": "code",
   "execution_count": null,
   "metadata": {},
   "outputs": [],
   "source": [
    "print(mj_lps[1])"
   ]
  },
  {
   "cell_type": "markdown",
   "metadata": {},
   "source": [
    "### Task 3 - Indexing single elements\n",
    "\n",
    "In Python indexing always starts with 0! Use the next code block to print the **1st** and **3rd** element of the **mj_lps** list."
   ]
  },
  {
   "cell_type": "code",
   "execution_count": null,
   "metadata": {},
   "outputs": [],
   "source": [
    "# print 1st element"
   ]
  },
  {
   "cell_type": "code",
   "execution_count": null,
   "metadata": {},
   "outputs": [],
   "source": [
    "# print 3rd element"
   ]
  },
  {
   "cell_type": "markdown",
   "metadata": {},
   "source": [
    "### Task 4 - Negative indexing\n",
    "\n",
    "To index the last element of a list, you can use negative indexing. Since -0 doesn't exist, **negative indexing starts with -1**. \n",
    "\n",
    "Print the last and 2nd to last element from the **mj_lps** list."
   ]
  },
  {
   "cell_type": "code",
   "execution_count": null,
   "metadata": {},
   "outputs": [],
   "source": [
    "# print last element"
   ]
  },
  {
   "cell_type": "code",
   "execution_count": null,
   "metadata": {},
   "outputs": [],
   "source": [
    "# print 2nd to last element"
   ]
  },
  {
   "cell_type": "markdown",
   "metadata": {},
   "source": [
    "### Task 5 - Calculate the average sales\n",
    "\n",
    "1. Create a new variable **mj_sales_total** with the total sales of all Michael Jackson LP's. Select the values of the list with indexing from the **mj_lps** list.\n",
    "2. Create a another variable **mj_sales_avg** to calculate the average of the sales. Use the **mj_sales_total** variable to calculate the average sales per LP."
   ]
  },
  {
   "cell_type": "code",
   "execution_count": null,
   "metadata": {},
   "outputs": [],
   "source": []
  },
  {
   "cell_type": "markdown",
   "metadata": {},
   "source": [
    "&nbsp;\n",
    "\n",
    "\n",
    "## Slicing\n",
    "\n",
    "In order to index a series of elements or a slice of the **mj_lps** list, you can use an expression of the form\n",
    "\n",
    "```python\n",
    "mj_lps[a:d]\n",
    "```\n",
    "whereby **a** is the position of the **first** element and **d** the position of the **last** element in the slice. The actual last element will however be **c** since Python excludes the last element (in this case **d**) from the slice.\n",
    "\n",
    "&nbsp;\n",
    "\n",
    "\n",
    "Below is the expression to select the 2nd to 4th element from the **mj_lps** list. Run the code block to see that it returns the 2nd to 4th element"
   ]
  },
  {
   "cell_type": "code",
   "execution_count": 38,
   "metadata": {},
   "outputs": [
    {
     "data": {
      "text/plain": [
       "[20, 'Thriller', 66]"
      ]
     },
     "execution_count": 38,
     "metadata": {},
     "output_type": "execute_result"
    }
   ],
   "source": [
    "mj_lps[1:4]"
   ]
  },
  {
   "cell_type": "markdown",
   "metadata": {},
   "source": [
    "Confused? Here is a simple way to **remember how to select the first and last element** of a slice:\n",
    "- The **first element** is selected assuming that indexing starts with 0. \n",
    "- The **second element** is selected by assuming indexing starts with 1."
   ]
  },
  {
   "cell_type": "markdown",
   "metadata": {},
   "source": [
    "### A few more slicing examples"
   ]
  },
  {
   "cell_type": "markdown",
   "metadata": {},
   "source": [
    "To select the 3rd to 6th element"
   ]
  },
  {
   "cell_type": "code",
   "execution_count": 59,
   "metadata": {},
   "outputs": [
    {
     "name": "stdout",
     "output_type": "stream",
     "text": [
      "['Thriller', 66, 'Bad', 35]\n"
     ]
    }
   ],
   "source": [
    "print(mj_lps[2:6])"
   ]
  },
  {
   "cell_type": "markdown",
   "metadata": {},
   "source": [
    "To select the 5th to 8th element"
   ]
  },
  {
   "cell_type": "code",
   "execution_count": 58,
   "metadata": {},
   "outputs": [
    {
     "name": "stdout",
     "output_type": "stream",
     "text": [
      "['Bad', 35, 'Dangerous', 32]\n"
     ]
    }
   ],
   "source": [
    "print(mj_lps[4:8])"
   ]
  },
  {
   "cell_type": "markdown",
   "metadata": {},
   "source": [
    "When **slicing from the first element**, you can omit the first index! The expression below will print a slice from the first till the 4th element."
   ]
  },
  {
   "cell_type": "code",
   "execution_count": 54,
   "metadata": {},
   "outputs": [
    {
     "name": "stdout",
     "output_type": "stream",
     "text": [
      "['Off the Wall', 20, 'Thriller', 66]\n"
     ]
    }
   ],
   "source": [
    "print(mj_lps[:4])"
   ]
  },
  {
   "cell_type": "markdown",
   "metadata": {},
   "source": [
    "Similarly, when **slicing till the last element**, you can omit the second index! The expression below will print a slice from the 9th till the last element."
   ]
  },
  {
   "cell_type": "code",
   "execution_count": 60,
   "metadata": {},
   "outputs": [
    {
     "name": "stdout",
     "output_type": "stream",
     "text": [
      "['History', 22, 'Invincible', 6, 'Michael', 0.7, 'Xscape', 1.7]\n"
     ]
    }
   ],
   "source": [
    "print(mj_lps[8:])"
   ]
  },
  {
   "cell_type": "markdown",
   "metadata": {},
   "source": [
    "&nbsp;\n",
    "\n",
    "\n",
    "### Task 6 - Slicing\n",
    "\n",
    "<pre>['Off the Wall', 20, 'Thriller', 66, 'Bad', 35, 'Dangerous', 32, 'History', 22, 'Invincible', 6, 'Michael', 0.7, 'Xscape', 1.7]</pre>\n",
    "\n",
    "1. Create a new variable for all LPs from the 70s (Off the Wall)\n",
    "2. Create a new variable for all LPs from the 80s (Thriller, Bad)\n",
    "3. Create a new variable for all LPs from the 90s (Dangerous, History)\n",
    "4. Create a new variable for all LPs from the 2000s (Invincible, Michael, Xscape)\n"
   ]
  },
  {
   "cell_type": "code",
   "execution_count": null,
   "metadata": {},
   "outputs": [],
   "source": [
    "mj_lps_70s = \n",
    "mj_lps_80s = \n",
    "mj_lps_90s = \n",
    "mj_lps_2000s = \n",
    "\n",
    "print(mj_lps_70s)\n",
    "print(mj_lps_80s)\n",
    "print(mj_lps_90s)\n",
    "print(mj_lps_2000s)"
   ]
  },
  {
   "cell_type": "code",
   "execution_count": 56,
   "metadata": {},
   "outputs": [
    {
     "name": "stdout",
     "output_type": "stream",
     "text": [
      "['Off the Wall', 20]\n",
      "['Thriller', 66, 'Bad', 35]\n",
      "['Dangerous', 32, 'History', 22]\n",
      "['Invincible', 6, 'Michael', 0.7, 'Xscape', 1.7]\n"
     ]
    }
   ],
   "source": [
    "# Solution\n",
    "mj_lps_70s = mj_lps[:2]\n",
    "mj_lps_80s = mj_lps[2:6]\n",
    "mj_lps_90s = mj_lps[6:10]\n",
    "mj_lps_2000s = mj_lps[10:]\n",
    "\n",
    "print(mj_lps_70s)\n",
    "print(mj_lps_80s)\n",
    "print(mj_lps_90s)\n",
    "print(mj_lps_2000s)"
   ]
  },
  {
   "cell_type": "markdown",
   "metadata": {},
   "source": [
    "\n",
    "&nbsp;\n",
    "\n",
    "&nbsp;\n",
    "\n",
    "## Final task - Please give us your feedback!\n",
    "\n",
    "This is the first time that we are exploring a remote learning format for our workshops and we would be grateful if you could take **1 min** before the end of the workshop to get your feedback!\n",
    "\n",
    "[Click here to open the survey!](https://lse.eu.qualtrics.com/jfe/form/SV_9zagWkOtzNhmqt7?course=D022-P1NV&topic=Python&cohort=PILOT)"
   ]
  },
  {
   "cell_type": "markdown",
   "metadata": {},
   "source": [
    "\n",
    "&nbsp;\n",
    "\n",
    "&nbsp;\n",
    "\n",
    "## Individual coding challenge: \n",
    "\n",
    "In Python **strings can also be indexed**, which allows you to create a subset of a string just as you can create a subset of a list. Take a look at the example below!\n",
    "\n",
    "```python\n",
    "msg = \"hello python\"\n",
    "print(msg[:5])\n",
    "```\n",
    "<pre>hello</pre>\n",
    "\n",
    "\n",
    "```python\n",
    "print(msg[6:])\n",
    "```\n",
    "<pre>python</pre>"
   ]
  },
  {
   "cell_type": "code",
   "execution_count": 7,
   "metadata": {},
   "outputs": [],
   "source": [
    "msg = \"Lists are fun!\""
   ]
  },
  {
   "cell_type": "markdown",
   "metadata": {},
   "source": [
    "1. Create three different variables (**word1, word2, word3**) for each word in the msg\n",
    "2. Create a list (**msg_list**) made up of the three variables\n",
    "3. Use a print statement to print the message \"Lists are fun!\" using the **msg_list** list"
   ]
  },
  {
   "cell_type": "code",
   "execution_count": null,
   "metadata": {},
   "outputs": [],
   "source": []
  }
 ],
 "metadata": {
  "kernelspec": {
   "display_name": "Python 3",
   "language": "python",
   "name": "python3"
  },
  "language_info": {
   "codemirror_mode": {
    "name": "ipython",
    "version": 3
   },
   "file_extension": ".py",
   "mimetype": "text/x-python",
   "name": "python",
   "nbconvert_exporter": "python",
   "pygments_lexer": "ipython3",
   "version": "3.7.4"
  }
 },
 "nbformat": 4,
 "nbformat_minor": 2
}
