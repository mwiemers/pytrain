{
 "cells": [
  {
   "cell_type": "markdown",
   "metadata": {},
   "source": [
    "<h1 style=\"color:blue;\">Python 1: Numerical variables</h1>"
   ]
  },
  {
   "cell_type": "markdown",
   "metadata": {},
   "source": [
    "Welcome to session 1 of the Python series. The goal of this session is to learn how to use variables to solve some basic calculation problems.\n",
    "\n",
    "You will learn about:\n",
    "* Using the print() function to print output\n",
    "* Basic calculations (addition, subtraction, multiplication and division)\n",
    "* Using variables for calculations"
   ]
  },
  {
   "cell_type": "markdown",
   "metadata": {},
   "source": [
    "<h3>More information on how the session is run</h3>"
   ]
  },
  {
   "cell_type": "markdown",
   "metadata": {},
   "source": [
    "<ul>\n",
    "    <li>Work together not in parallel. Switch who is sharing the screen after half of notebook.</li>\n",
    "    <li>What to do when getting stuck:</li>\n",
    "    <ol>\n",
    "        <li>Ask your team members</li>\n",
    "        <li>Search online:</li>\n",
    "        <ol>\n",
    "            <li>The answer box on the top of Google's results page</li>\n",
    "            <li>stackoverflow.com (for task-specific solutions)</li>\n",
    "            <li>w3school.com (very good for basic python questions)</li>\n",
    "            <li>realpython.com (for topic-based tutorials)</li>\n",
    "        </ol>\n",
    "        <li>Ask me if you struggle to find a solution</li>\n",
    "    </ol>\n",
    "    <li>Handing in answers</li>\n",
    "    <li>Intro to Jupyter Notebooks</li>\n",
    "</ul>\n",
    "&nbsp;\n"
   ]
  },
  {
   "cell_type": "markdown",
   "metadata": {},
   "source": [
    "<h2 style=\"color:blue;\">Printing numbers</h2>"
   ]
  },
  {
   "cell_type": "markdown",
   "metadata": {},
   "source": [
    "The goal of every program is to create some type of output. The output could be anything from a graphic, chart, animation, table, statistics etc. You will learn more about this in the more advanced sessions. In this session, we are going to learn about carrying out numerical calculations. So, how can we use a Python program to output numerical information? \n",
    "\n",
    "For this, we can use the **print()** function, which will print any value that you enter inside the parentheses.\n",
    "\n",
    "**This line below will print the number 2020**\n",
    "\n",
    "```python\n",
    "print(2020)\n",
    "```"
   ]
  },
  {
   "cell_type": "markdown",
   "metadata": {},
   "source": [
    "<h3 style=\"color:purple;\">Exercise: Printing numbers</h3>"
   ]
  },
  {
   "cell_type": "markdown",
   "metadata": {},
   "source": [
    "<ol>\n",
    "    <li>Write a print statement to print the number 2020 and run the code block with Shift+Return</li>\n",
    "    <li>Add a print statement to print the number 1984 and run the code block</li>\n",
    "    <li>Add a print statement to print a decimal number like for instance 3.14159 and run the code block</li>\n",
    "</ol>\n",
    "\n",
    "In programming, whole numbers are called **integers** and decimal numbers are called **floats**."
   ]
  },
  {
   "cell_type": "code",
   "execution_count": null,
   "metadata": {},
   "outputs": [],
   "source": []
  },
  {
   "cell_type": "markdown",
   "metadata": {},
   "source": [
    "&nbsp;\n",
    "\n",
    "&nbsp;\n",
    "<h2 style=\"color:blue;\">Using Python as a calculator</h2>"
   ]
  },
  {
   "cell_type": "markdown",
   "metadata": {},
   "source": [
    "You can also use the print function to print the result of a calculation problem. You can carry out calculations very similar to how you would type them into a physical calculator. Just enter the math expression inside the parentheses of the print() function and Python will first evaluate the expression inside the parenthesis and then give the result as an output.\n",
    "\n",
    "<p style=\"color:purple\">Try it out! Run the code block to get the result of 3 + 2</p>"
   ]
  },
  {
   "cell_type": "code",
   "execution_count": null,
   "metadata": {},
   "outputs": [],
   "source": [
    "print(3 + 2)"
   ]
  },
  {
   "cell_type": "markdown",
   "metadata": {},
   "source": [
    "<h3 style=\"color:red\">Common errors: Syntax Error</h3>"
   ]
  },
  {
   "cell_type": "markdown",
   "metadata": {},
   "source": [
    "One of the most common errors in programming is the syntax error. Python will return a syntax error, whenever your code violates the rules of how to write code in Python. It is very similar to a syntax error in human language, but in contrast to humans, computers cannot make sense of code if it doesn't conform 100% to the rules.\n",
    "\n",
    "<img src=\"https://www.dropbox.com/s/ssqraghyq51lziw/syntax_error.png?raw=1\" width=50%>"
   ]
  },
  {
   "cell_type": "markdown",
   "metadata": {},
   "source": [
    "<p style=\"color:purple\">Run the block below.</p>\n",
    "\n",
    "Python will complain about the missing ) at the end of the print statement. Omitting a closing parentheses is one of the most common causes for a syntax error."
   ]
  },
  {
   "cell_type": "code",
   "execution_count": null,
   "metadata": {},
   "outputs": [],
   "source": [
    "# unexpected EOF - what is it?"
   ]
  },
  {
   "cell_type": "code",
   "execution_count": null,
   "metadata": {},
   "outputs": [],
   "source": [
    "print(4 + 2"
   ]
  },
  {
   "cell_type": "markdown",
   "metadata": {},
   "source": [
    "<h3 style=\"color:purple;\">Exercise: Calculations</h3>"
   ]
  },
  {
   "cell_type": "markdown",
   "metadata": {},
   "source": [
    "Use the print() function to print out the result of each problem in the code block below. "
   ]
  },
  {
   "cell_type": "markdown",
   "metadata": {},
   "source": [
    "<img src=\"https://www.dropbox.com/s/nfwl5ffhtsuy9v3/calc_problems.png?raw=1\" align=\"left\">"
   ]
  },
  {
   "cell_type": "code",
   "execution_count": null,
   "metadata": {},
   "outputs": [],
   "source": []
  },
  {
   "cell_type": "markdown",
   "metadata": {},
   "source": [
    "<h3 style=\"color:purple\">Exercise: Investment word problem</h3>"
   ]
  },
  {
   "cell_type": "markdown",
   "metadata": {},
   "source": [
    "Suppose you have £100, which you can invest with a 10% return each year. \n",
    "\n",
    "After one year, it's 100 × 1.1 = 110 Pound, and after two years it's 100 × 1.1 × 1.1 = 121. \n",
    "\n",
    "<p>Print how much money you end up with after 7 years, while using as few code as possible.</p>"
   ]
  },
  {
   "cell_type": "code",
   "execution_count": null,
   "metadata": {},
   "outputs": [],
   "source": []
  },
  {
   "cell_type": "markdown",
   "metadata": {},
   "source": [
    "&nbsp;\n",
    "\n",
    "&nbsp;\n",
    "\n",
    "<h2 style=\"color:blue;\">Using variables</h2>"
   ]
  },
  {
   "cell_type": "markdown",
   "metadata": {},
   "source": [
    "Variables allow you to store information. You can think of variables as named containers. Once a variable has been assigned a specific value, you can refer to the variable name to retrieve that value. The benefit of using variables in your code is that you can create the variable once and can reuse it anywhere else inside your code. If you for instance import a dataset into Python as a variable, you can then use that variable name to work with the dataset."
   ]
  },
  {
   "cell_type": "markdown",
   "metadata": {},
   "source": [
    "### Creating a variable"
   ]
  },
  {
   "cell_type": "markdown",
   "metadata": {},
   "source": [
    "Below we are creating a variable with the name savings and assign the integer 12000 to it by putting the = operator in between the name and the value.\n",
    "\n",
    "<p style=\"color:purple\">Run the code block to create the variable <em>savings</em>.</p>"
   ]
  },
  {
   "cell_type": "code",
   "execution_count": 7,
   "metadata": {},
   "outputs": [],
   "source": [
    "savings = 12000"
   ]
  },
  {
   "cell_type": "markdown",
   "metadata": {},
   "source": [
    "Whenever we now write savings in a code block, Python will look up the value that has been assigned to that variable. \n",
    "\n",
    "<p style=\"color:purple\"><strong>Exericse:</strong> Print the variable <em>savings</em>.</p>"
   ]
  },
  {
   "cell_type": "code",
   "execution_count": null,
   "metadata": {},
   "outputs": [],
   "source": []
  },
  {
   "cell_type": "markdown",
   "metadata": {},
   "source": [
    "<h3 style=\"color:red\">Common errors: Name Error</h3>"
   ]
  },
  {
   "cell_type": "markdown",
   "metadata": {},
   "source": [
    "The name error is another common error, which occurs when Python cannot find a variable in memory that is being used in your script. \n",
    "\n",
    "The most common causes of a name error are:\n",
    "* a typo - you misspelled the variable at some point in your script\n",
    "* you are referring to a variable that you didn't create earlier in your script"
   ]
  },
  {
   "cell_type": "markdown",
   "metadata": {},
   "source": [
    "<p style=\"color:purple\"><strong>Exercise: </strong>Try to trigger a name error on purpose with the print() function.</p>"
   ]
  },
  {
   "cell_type": "code",
   "execution_count": null,
   "metadata": {},
   "outputs": [],
   "source": []
  },
  {
   "cell_type": "markdown",
   "metadata": {},
   "source": [
    "### Rules for naming variables"
   ]
  },
  {
   "cell_type": "markdown",
   "metadata": {},
   "source": [
    "When creating variables, we have to make sure that we comply with **Python's rules**:\n",
    "\n",
    "- Variable names can only consist of letters (a-z, A-Z), digits(0-9) and the underscore _\n",
    "- Variable names cannot start with a digit"
   ]
  },
  {
   "cell_type": "markdown",
   "metadata": {},
   "source": [
    "<h3 style=\"color:purple\">Exercise: Applying variables to the investment word problem</h3>"
   ]
  },
  {
   "cell_type": "markdown",
   "metadata": {},
   "source": [
    "1. Create variables for each of the values in the calculation\n",
    "\n",
    "    * intial savings\n",
    "    * interest rate\n",
    "    * years of investment\n",
    "\n",
    "\n",
    "2. Create a variable for the final savings and calculate the final savings with the variables from above\n",
    "\n",
    "\n",
    "3. Print the final savings"
   ]
  },
  {
   "cell_type": "code",
   "execution_count": null,
   "metadata": {},
   "outputs": [],
   "source": [
    "\n",
    "\n"
   ]
  },
  {
   "cell_type": "markdown",
   "metadata": {},
   "source": [
    "<h3 style=\"color:purple\">Exercise: Fix the variable names</h3>"
   ]
  },
  {
   "cell_type": "code",
   "execution_count": null,
   "metadata": {},
   "outputs": [],
   "source": [
    "grade-michael = "
   ]
  },
  {
   "cell_type": "markdown",
   "metadata": {},
   "source": [
    "<h3 style=\"color:purple\">Exercise: Spot the error and fix it</h3>"
   ]
  },
  {
   "cell_type": "code",
   "execution_count": null,
   "metadata": {},
   "outputs": [],
   "source": []
  },
  {
   "cell_type": "markdown",
   "metadata": {},
   "source": [
    "&nbsp;\n",
    "<h3 \"style=color:purple\">Take home exercise: Investment problem 2</h3>"
   ]
  },
  {
   "cell_type": "markdown",
   "metadata": {},
   "source": [
    "\n",
    "\n",
    "1. Create variables for each of the values in the calculation\n",
    "\n",
    "    * intial savings\n",
    "    * interest rate\n",
    "    * years of investment\n",
    "\n",
    "\n",
    "2. Create a variable for the final savings and calculate the final savings with the variables from above\n",
    "\n",
    "\n",
    "3. Print the final savings variable"
   ]
  },
  {
   "cell_type": "code",
   "execution_count": null,
   "metadata": {},
   "outputs": [],
   "source": []
  }
 ],
 "metadata": {
  "kernelspec": {
   "display_name": "Python 3",
   "language": "python",
   "name": "python3"
  },
  "language_info": {
   "codemirror_mode": {
    "name": "ipython",
    "version": 3
   },
   "file_extension": ".py",
   "mimetype": "text/x-python",
   "name": "python",
   "nbconvert_exporter": "python",
   "pygments_lexer": "ipython3",
   "version": "3.7.4"
  }
 },
 "nbformat": 4,
 "nbformat_minor": 2
}
