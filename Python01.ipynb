{
 "cells": [
  {
   "cell_type": "markdown",
   "metadata": {},
   "source": [
    "<h1>Python 1: Numerical variables</h1>"
   ]
  },
  {
   "cell_type": "markdown",
   "metadata": {},
   "source": [
    "Welcome to session 1 of the Python series. The goal of this session is to learn how to use variables to solve some basic calculation problems.\n",
    "\n",
    "<b>You will learn about</b>:\n",
    "* Using the print() function to print output\n",
    "* Basic calculations (addition, subtraction, multiplication and division)\n",
    "* Using variables for calculations"
   ]
  },
  {
   "cell_type": "markdown",
   "metadata": {},
   "source": [
    "<h3>More information on how the session is run</h3>"
   ]
  },
  {
   "cell_type": "markdown",
   "metadata": {},
   "source": [
    "<ul>\n",
    "    <li><b>How to work together</b>: \n",
    "        <ul>\n",
    "            <li>One shares the screen and the other requests remote control. </li>\n",
    "            <li>Take turns on who types for each exercise.</li>\n",
    "            <li>At the end download the Jupyter Notebook and share it with your teammate.</li>\n",
    "        </ul></li>\n",
    "    <li><b>What to do when getting stuck</b>:</li>\n",
    "    <ol>\n",
    "        <li>Search online:</li>\n",
    "        <ol>\n",
    "            <li>The answer box on the top of Google's results page</li>\n",
    "            <li><a href=\"https://www.stackoverflow.com\">stackoverflow.com</a> (task-specific solutions)</li>\n",
    "            <li><a href=\"https://www.w3schools.com\">w3schools.com</a> (basic python questions)</li>\n",
    "            <li><a href=\"https://www.realpython.com\">realpython.com</a> (topic-based tutorials)</li>\n",
    "        </ol>\n",
    "        <li>Don't get caught up searching for answers too long! Ask the trainer if you struggle to find a solution.</li>\n",
    "    </ol>\n",
    "    <li><b>To get feedback</b>, hand in your Jupyter notebook in the assignment on the <a href=\"https://teams.microsoft.com/l/channel/19%3a74d4471163a9444b99264c84d213e75d%40thread.tacv2/Python%25201%2520-%2520Numerical%2520Variables?groupId=fc9621d7-cb24-40bc-9763-8ad05e129d86&tenantId=5567eafd-e777-42a5-91bb-9440fd43b893\">Teams channel for the Python 1 workshop</a>.</li>\n",
    "</ul>\n",
    "&nbsp;\n"
   ]
  },
  {
   "cell_type": "markdown",
   "metadata": {},
   "source": [
    "\n",
    "&nbsp;\n",
    "\n",
    "## Printing numbers"
   ]
  },
  {
   "cell_type": "markdown",
   "metadata": {},
   "source": [
    "The goal of every program is to create some type of output. The output could be anything from a graphic, chart, animation, table, statistics etc. You will learn more about this in the more advanced sessions. In this session, we are going to learn about carrying out numerical calculations. So, how can we use a Python program to output numerical information? \n",
    "\n",
    "For this, we can use the **print()** function, which will print any value that you enter inside the parentheses.\n",
    "\n",
    "**This line below will print the number 2020**\n",
    "\n",
    "```python\n",
    "print(2020)\n",
    "```"
   ]
  },
  {
   "cell_type": "markdown",
   "metadata": {},
   "source": [
    "### Task: Printing numbers"
   ]
  },
  {
   "cell_type": "markdown",
   "metadata": {},
   "source": [
    "<ol>\n",
    "    <li>Write a print statement to print the number 2020 and run the code block with Shift+Return</li>\n",
    "    <li>Add a print statement to print the number 1984 and run the code block</li>\n",
    "    <li>Add a print statement to print a decimal number like for instance 3.14159 and run the code block</li>\n",
    "</ol>\n",
    "\n",
    "In programming, whole numbers are called **integers** and decimal numbers are called **floats**."
   ]
  },
  {
   "cell_type": "code",
   "execution_count": null,
   "metadata": {},
   "outputs": [],
   "source": []
  },
  {
   "cell_type": "markdown",
   "metadata": {},
   "source": [
    "&nbsp;\n",
    "\n",
    "&nbsp;\n",
    "## Using Python as a calculator"
   ]
  },
  {
   "cell_type": "markdown",
   "metadata": {},
   "source": [
    "You can also use the print function to print the result of a calculation problem. You can carry out calculations very similar to how you would type them into a physical calculator. Just enter the math expression inside the parentheses of the print() function and Python will first evaluate the expression inside the parenthesis and then give the result as an output.\n",
    "\n",
    "<p style=\"color:purple\">Try it out! Run the code block to get the result of 3 + 2</p>"
   ]
  },
  {
   "cell_type": "code",
   "execution_count": null,
   "metadata": {},
   "outputs": [],
   "source": [
    "print(3 + 2)"
   ]
  },
  {
   "cell_type": "markdown",
   "metadata": {},
   "source": [
    "<h3 style=\"color:red\">Common errors: Syntax Error</h3>"
   ]
  },
  {
   "cell_type": "markdown",
   "metadata": {},
   "source": [
    "One of the most common errors in programming is the syntax error. Python will return a syntax error, whenever your code violates the rules of how to write code in Python. It is very similar to a syntax error in human language, but in contrast to humans, computers cannot make sense of code if it doesn't conform 100% to the rules.\n",
    "\n",
    "<img src=\"https://www.dropbox.com/s/ssqraghyq51lziw/syntax_error.png?raw=1\" width=50%>"
   ]
  },
  {
   "cell_type": "markdown",
   "metadata": {},
   "source": [
    "### Task: Fix the error"
   ]
  },
  {
   "cell_type": "markdown",
   "metadata": {},
   "source": [
    "<p style=\"color:purple\">Run the block below.</p>\n",
    "\n",
    "Python will return a Syntax error with the message *unexpected EOF while parsing*. Search online to find out what the error message is about and fix the error!"
   ]
  },
  {
   "cell_type": "code",
   "execution_count": null,
   "metadata": {},
   "outputs": [],
   "source": [
    "print(4 + 2"
   ]
  },
  {
   "cell_type": "markdown",
   "metadata": {},
   "source": [
    "### Task: Calculations"
   ]
  },
  {
   "cell_type": "markdown",
   "metadata": {},
   "source": [
    "Use the print() function to print out the result of each problem in the code block below. "
   ]
  },
  {
   "cell_type": "markdown",
   "metadata": {},
   "source": [
    "<img src=\"https://www.dropbox.com/s/nfwl5ffhtsuy9v3/calc_problems.png?raw=1\" align=\"left\">"
   ]
  },
  {
   "cell_type": "code",
   "execution_count": null,
   "metadata": {},
   "outputs": [],
   "source": []
  },
  {
   "cell_type": "markdown",
   "metadata": {},
   "source": [
    "### Task: Investment word problem"
   ]
  },
  {
   "cell_type": "markdown",
   "metadata": {},
   "source": [
    "Suppose you have £100, which you can invest with a 10% return each year. \n",
    "\n",
    "After one year, it's 100 × 1.1 = 110 Pound, and after two years it's 100 × 1.1 × 1.1 = 121. \n",
    "\n",
    "<p>Print how much money you end up with after 7 years, while using as few code as possible.</p>"
   ]
  },
  {
   "cell_type": "code",
   "execution_count": null,
   "metadata": {},
   "outputs": [],
   "source": []
  },
  {
   "cell_type": "markdown",
   "metadata": {},
   "source": [
    "&nbsp;\n",
    "\n",
    "&nbsp;\n",
    "\n",
    "## Adding comments"
   ]
  },
  {
   "cell_type": "markdown",
   "metadata": {},
   "source": [
    "A comment in programming is explanatory text in your script that will be ignored by Python. Comments are primarily intended to make the code easier to understand for other programmers but can also help you to remember the purpose of your code."
   ]
  },
  {
   "cell_type": "markdown",
   "metadata": {},
   "source": [
    "### Task: Comments"
   ]
  },
  {
   "cell_type": "markdown",
   "metadata": {},
   "source": [
    "Add a comment in the first line of your *investment word problem* script that explains in one sentence the purpose of the code."
   ]
  },
  {
   "cell_type": "markdown",
   "metadata": {},
   "source": [
    "&nbsp;\n",
    "\n",
    "&nbsp;\n",
    "\n",
    "## Using variables"
   ]
  },
  {
   "cell_type": "markdown",
   "metadata": {},
   "source": [
    "Variables allow you to store information. You can think of variables as named containers. Once a variable has been assigned a specific value, you can refer to the variable name to retrieve that value. The benefit of using variables in your code is that you can create the variable once and can reuse it anywhere else inside your code. If you for instance import a dataset into Python as a variable, you can then use that variable name to work with the dataset."
   ]
  },
  {
   "cell_type": "markdown",
   "metadata": {},
   "source": [
    "### Creating a variable"
   ]
  },
  {
   "cell_type": "markdown",
   "metadata": {},
   "source": [
    "Below we are creating a variable with the name savings and assign the integer 12000 to it by putting the = operator in between the name and the value.\n",
    "\n",
    "<p style=\"color:purple\">Run the code block to create the variable <em>savings</em>.</p>"
   ]
  },
  {
   "cell_type": "code",
   "execution_count": 7,
   "metadata": {},
   "outputs": [],
   "source": [
    "savings = 12000"
   ]
  },
  {
   "cell_type": "markdown",
   "metadata": {},
   "source": [
    "Whenever we now write savings in a code block, Python will look up the value that has been assigned to that variable. \n",
    "\n",
    "<p style=\"color:purple\"><strong>Exericse:</strong> Print the variable <em>savings</em>.</p>"
   ]
  },
  {
   "cell_type": "code",
   "execution_count": null,
   "metadata": {},
   "outputs": [],
   "source": []
  },
  {
   "cell_type": "markdown",
   "metadata": {},
   "source": [
    "<h3 style=\"color:red\">Common errors: Name Error</h3>"
   ]
  },
  {
   "cell_type": "markdown",
   "metadata": {},
   "source": [
    "The name error is another common error, which occurs when Python cannot find a variable in memory that is being used in your script. \n",
    "\n",
    "The most common causes of a name error are:\n",
    "* a typo - you misspelled the variable at some point in your script\n",
    "* you are referring to a variable that you didn't create earlier in your script"
   ]
  },
  {
   "cell_type": "markdown",
   "metadata": {},
   "source": [
    "<p style=\"color:purple\"><strong>Exercise: </strong>Try to trigger a name error on purpose with the print() function.</p>"
   ]
  },
  {
   "cell_type": "code",
   "execution_count": null,
   "metadata": {},
   "outputs": [],
   "source": []
  },
  {
   "cell_type": "markdown",
   "metadata": {},
   "source": [
    "### Rules for naming variables"
   ]
  },
  {
   "cell_type": "markdown",
   "metadata": {},
   "source": [
    "When creating variables, we have to make sure that we comply with **Python's rules**:\n",
    "\n",
    "- Variable names can only consist of letters (a-z, A-Z), digits(0-9) and the underscore _\n",
    "- Variable names cannot start with a digit"
   ]
  },
  {
   "cell_type": "markdown",
   "metadata": {},
   "source": [
    "### Task: Applying variables to the investment word problem"
   ]
  },
  {
   "cell_type": "markdown",
   "metadata": {},
   "source": [
    "1. Create variables for each of the values in the calculation\n",
    "\n",
    "    * intial savings\n",
    "    * interest rate\n",
    "    * years of investment\n",
    "\n",
    "\n",
    "2. Create a variable for the final savings and calculate the final savings with the variables from above\n",
    "\n",
    "\n",
    "3. Print the final savings"
   ]
  },
  {
   "cell_type": "code",
   "execution_count": null,
   "metadata": {},
   "outputs": [],
   "source": [
    "\n",
    "\n"
   ]
  },
  {
   "cell_type": "markdown",
   "metadata": {},
   "source": [
    "### Task: Debugging - spot the errors and fix them\n",
    "\n",
    "The process of identifying and fixing errors in your program is called debugging.\n",
    "\n",
    "There are three erros in the code below:\n",
    "- a syntax error\n",
    "- a logic error\n",
    "- a name error\n",
    "\n",
    "Find them all and fix them!"
   ]
  },
  {
   "cell_type": "code",
   "execution_count": null,
   "metadata": {},
   "outputs": [],
   "source": [
    "seconds_in_a_minute = 60\n",
    "seconds_in_an_hour = seconds_in_a_minute * 60\n",
    "seconds_in_a_day = seconds_in_an_hour * 24\n",
    "seconds_in_a_year = seconds_in_day * 265\n",
    "print seconds_in_a_year"
   ]
  },
  {
   "cell_type": "code",
   "execution_count": null,
   "metadata": {},
   "outputs": [],
   "source": []
  },
  {
   "cell_type": "markdown",
   "metadata": {},
   "source": [
    "\n",
    "&nbsp;\n",
    "\n",
    "&nbsp;\n",
    "\n",
    "### Please give us your feedback!\n",
    "\n",
    "This is the first time that we are exploring a remote learning format for our workshops and we would be grateful if you could take 2 mins before the end of the workshop to get your feedback!\n",
    "\n",
    "[Click here to open the survey!](https://lse.eu.qualtrics.com/jfe/form/SV_9zagWkOtzNhmqt7?course=D022-P1NV&topic=Python&cohort=PILOT)"
   ]
  },
  {
   "cell_type": "markdown",
   "metadata": {},
   "source": [
    "&nbsp;\n",
    "### Individual coding challenge: Mortgage affordability calculator\n",
    "\n",
    "Work on this coding challenge individually either at the end of the workshop or sometime before the next workshop.\n",
    "\n",
    "Task: Write a program that calculates the maximum amount a person can borrow.\n",
    "\n",
    "Steps:\n",
    "1. Create variables for\n",
    "    - income of the borrower\n",
    "    - length of repayment period in years \n",
    "    - number of dependants (children)\n",
    "2. Calculate the maximum loan as 4.5 times the income\n",
    "3. Add a second factor for the calculation of the maximum loan for the length of the repayment period divided by 25\n",
    "4. Add a third factor for the calculation of the maximum loan that reduces the maximum loan by 5% for each dependant\n",
    "5. Print the maximum loan"
   ]
  },
  {
   "cell_type": "code",
   "execution_count": null,
   "metadata": {},
   "outputs": [],
   "source": []
  }
 ],
 "metadata": {
  "kernelspec": {
   "display_name": "Python 3",
   "language": "python",
   "name": "python3"
  },
  "language_info": {
   "codemirror_mode": {
    "name": "ipython",
    "version": 3
   },
   "file_extension": ".py",
   "mimetype": "text/x-python",
   "name": "python",
   "nbconvert_exporter": "python",
   "pygments_lexer": "ipython3",
   "version": "3.7.4"
  }
 },
 "nbformat": 4,
 "nbformat_minor": 2
}
