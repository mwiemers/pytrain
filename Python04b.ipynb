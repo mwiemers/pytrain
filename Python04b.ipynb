{
 "cells": [
  {
   "cell_type": "markdown",
   "metadata": {},
   "source": [
    "# Python 4b: Lists"
   ]
  },
  {
   "cell_type": "markdown",
   "metadata": {},
   "source": [
    "In this workshop builds on what you learned in the first workshop on lists in which you learned how to create lists and index elements from lists.\n",
    "\n",
    "This workshop will teach you how to:\n",
    "- create lists within list\n",
    "- manipulate lists"
   ]
  },
  {
   "cell_type": "markdown",
   "metadata": {},
   "source": [
    "&nbsp;\n",
    "\n",
    "## A List of  lists\n",
    "\n",
    "As you already know lists can consist of any data object. We can even create a list made up of lists. Take a look at the example below.\n",
    "\n",
    "```python\n",
    "no1_hits = [[\"The Beatles\", 20], [\"Mariah Carey\", 18], [\"Rihanna\", 14], [\"Michael Jackson\", 13], [\"Madonna\", 12]]\n",
    "```\n",
    "\n",
    "When creating a list of lists, you can also put each list in a new line, which makes it easier to read the code.\n",
    "\n",
    "```python\n",
    "no1_hits = [[\"The Beatles\", 20], \n",
    "            [\"Mariah Carey\", 18], \n",
    "            [\"Rihanna\", 14], \n",
    "            [\"Michael Jackson\", 13], \n",
    "            [\"Madonna\", 12]]\n",
    "```\n",
    "\n",
    "&nbsp;\n",
    "\n",
    "### Task 1 - Creating a list of lists\n",
    "\n",
    "Adapt the **mj_lps** list so that each album is stored in a separate list within the **mj_lps** list.\n"
   ]
  },
  {
   "cell_type": "code",
   "execution_count": 2,
   "metadata": {},
   "outputs": [],
   "source": [
    "mj_lps = ['Off the Wall', 20, 'Thriller', 66, 'Bad', 35, 'Dangerous', 32, 'History', 22, 'Invincible', 6, 'Michael', 0.7, 'Xscape', 1.7]"
   ]
  },
  {
   "cell_type": "markdown",
   "metadata": {},
   "source": [
    "&nbsp;\n",
    "\n",
    "### Task 2 - Indexing a list of lists\n",
    "\n",
    "You can select a list from a list of list just as you would select an element from a regular list.\n",
    "\n",
    "To print the first list from the **mj_lps** list:\n",
    "\n",
    "```python\n",
    "print(mj_lps[0])\n",
    "```\n",
    "<pre>['Off the Wall', 20]</pre>\n",
    "\n",
    "To print the first element from the first list of the **mj_lps** list:\n",
    "\n",
    "```python\n",
    "album_1 = mj_lps[0]\n",
    "print(album_1[0])\n",
    "```\n",
    "<pre>'Off the Wall'</pre>\n",
    "\n",
    "Alternatively, you can do this with one line. With the first square brackets, you select the first list. With the second square brackets, you select the first element from that first list:\n",
    "\n",
    "```python\n",
    "print(mj_lps[0][0])\n",
    "```\n",
    "<pre>'Off the Wall'</pre>\n",
    "\n",
    "1. Print the second list of the mj_lps list\n",
    "2. Assign the second list of the mj_lps list the the variable album_2\n",
    "3. Print the second element of the album_2 list\n",
    "4. Print the first element of the third list of the mj_lps list using only one line of code"
   ]
  },
  {
   "cell_type": "code",
   "execution_count": null,
   "metadata": {},
   "outputs": [],
   "source": []
  },
  {
   "cell_type": "markdown",
   "metadata": {},
   "source": [
    "### Task 3 - Reordering a list of lists"
   ]
  },
  {
   "cell_type": "markdown",
   "metadata": {},
   "source": [
    "1. Print the **mj_lps** list.\n",
    "2. Reorder the **mj_lps** list based on the sold units in descending order **by indexing the lists in the original mj_lps list**\n",
    "3. Print the reordered **mj_lps** list."
   ]
  },
  {
   "cell_type": "code",
   "execution_count": null,
   "metadata": {},
   "outputs": [],
   "source": []
  },
  {
   "cell_type": "markdown",
   "metadata": {},
   "source": [
    "&nbsp;\n",
    "\n",
    "## Manipulating lists\n",
    "\n",
    "Let us now have a look at the ways you can manipulate an existing list. You will practice how to **change**, **add** and **remove elements** in a list and how to **combine two or more lists**."
   ]
  },
  {
   "cell_type": "markdown",
   "metadata": {},
   "source": [
    "\n",
    "\n",
    "## Changing elements\n",
    "\n",
    "### Task 4 - Changing elements in a list\n",
    "\n",
    "There are a few errors in the **fav_songs** list. Change it **by using indexing** to replace the second value in the empy code block.\n",
    "\n",
    "Errors:\n",
    "- Lose Myself --> Lose Yourself\n",
    "- Go with the Crowd --> Go with the Flow\n",
    "- Earthshake --> Earthquake"
   ]
  },
  {
   "cell_type": "code",
   "execution_count": 10,
   "metadata": {},
   "outputs": [],
   "source": [
    "fav_songs = [\"Living For The City\", \"Lose Myself\", \"Go with the Crowd\", \"Earthshake\"]"
   ]
  },
  {
   "cell_type": "code",
   "execution_count": 14,
   "metadata": {},
   "outputs": [],
   "source": [
    "# use indexing to change the values here\n",
    "\n",
    "\n",
    "\n",
    "# print the list to verify that the list has been updated correctly\n"
   ]
  },
  {
   "cell_type": "markdown",
   "metadata": {},
   "source": [
    "### Task 5 - Changing elements in a list of lists\n",
    "\n",
    "There is an error in the **weeks_no1** list. The value \"Desperado\" in the third list has to be replaced with \"Despacito\". \n",
    "\n",
    "1. Run the first block to create the **weeks_no1** list.\n",
    "2. Use **indexing** to change the value to \"Despacito\" in the second block.\n",
    "3. Print the **weeks_no1** list to verify the value has been changed correctly."
   ]
  },
  {
   "cell_type": "code",
   "execution_count": 16,
   "metadata": {},
   "outputs": [],
   "source": [
    "weeks_no1 = [[\"Lil Nas X\", \"Old Town Road\", 19],\n",
    "             [\"Mariah Carey & Boyz II Men\", \"One Sweet Day\", 16],\n",
    "             [\"Luis Fonsi & Daddy Yankee\", \"Desperado\", 16],\n",
    "             [\"Whitney Houston\", \"I Will Always Love You\", 14]]"
   ]
  },
  {
   "cell_type": "code",
   "execution_count": 17,
   "metadata": {},
   "outputs": [],
   "source": [
    "# use indexing to change the value here\n",
    "\n",
    "\n",
    "# print the list to verify that the list has been updated correctly\n"
   ]
  },
  {
   "cell_type": "markdown",
   "metadata": {},
   "source": [
    "&nbsp;\n",
    "\n",
    "## Adding and removing elements"
   ]
  },
  {
   "cell_type": "markdown",
   "metadata": {},
   "source": [
    "To **add one or multiple elements** to a list, you can use the + operator. You have to put brackets around the values!\n",
    "\n",
    "```python\n",
    "# Adding a single element\n",
    "fav_songs = fav_songs + [\"Girl You Know It's True\"]\n",
    "\n",
    "# Adding multiple elements\n",
    "fav_songs = fav_songs + [\"Hit me Baby One More Time\", \"Never Forget\"]\n",
    "```\n",
    "&nbsp;\n",
    "\n",
    "You can **remove elements** With the **del()** function. \n",
    "\n",
    "```python\n",
    "# Removing the last element\n",
    "del(fav_songs[-1])\n",
    "\n",
    "# Removing the last three element\n",
    "del(fav_songs[-3:])\n",
    "```"
   ]
  },
  {
   "cell_type": "markdown",
   "metadata": {},
   "source": [
    "### Task 6 - UK Charts\n",
    "\n",
    "These are the UK Top 5 Charts fom 2019\n",
    "\n",
    "1.\tLewis Capaldi - Someone You Loved\n",
    "2.\tLil Nas X - Old Town Road\n",
    "3.\tBillie Eilish - bad guy\n",
    "4.\tCalvin Harris & Rag'n'Bone Man - Giant\n",
    "5.\tAJ Tracey - Ladbroke Grove\n",
    "\n",
    "&nbsp;\n",
    "\n",
    "Below is an incorrect and incomplete list for the UK Top 5 Charts.\n",
    "\n",
    "1. Run the below block to create the uk_top_5_2019 list.\n",
    "2. Correct and complete the list."
   ]
  },
  {
   "cell_type": "code",
   "execution_count": null,
   "metadata": {},
   "outputs": [],
   "source": [
    "uk_top_5_2019 = [[\"Lil Nas X\", \"Old Town Road\"],\n",
    "                 [\"Lewis Capaldi\", \"Someone You Loved\"], \n",
    "                 [\"Lewis Capaldi\", \"Grace\"]]"
   ]
  },
  {
   "cell_type": "code",
   "execution_count": null,
   "metadata": {},
   "outputs": [],
   "source": [
    "# Correct and complete the list here\n"
   ]
  },
  {
   "cell_type": "markdown",
   "metadata": {},
   "source": [
    "\n",
    "&nbsp;\n",
    "\n",
    "&nbsp;\n",
    "\n",
    "## Final task - Please give us your feedback!\n",
    "\n",
    "This is the first time that we are exploring a remote learning format for our workshops and we would be grateful if you could take **1 min** before the end of the workshop to get your feedback!\n",
    "\n",
    "[Click here to open the survey!](https://lse.eu.qualtrics.com/jfe/form/SV_9zagWkOtzNhmqt7?course=D022-P1NV&topic=Python&cohort=PILOT)"
   ]
  },
  {
   "cell_type": "markdown",
   "metadata": {},
   "source": [
    "&nbsp;\n",
    "\n",
    "&nbsp;\n",
    "\n",
    "## Individual coding challenge:"
   ]
  },
  {
   "cell_type": "markdown",
   "metadata": {},
   "source": [
    " Below is a table with the top 5 female tennis players of all time.\n",
    " \n",
    " <table>\n",
    "  <tr>\n",
    "    <th>Player</th>\n",
    "    <th>Grand Slam titles</th>\n",
    "    <th>Years active</th>\n",
    "  </tr>\n",
    "  <tr>\n",
    "    <td>Serena Williams</td>\n",
    "    <td>23</td>\n",
    "    <td>25</td>\n",
    "  </tr>\n",
    "  <tr>\n",
    "    <td>Steffi Graf</td>\n",
    "    <td>22</td>\n",
    "    <td>17</td>\n",
    "  </tr>\n",
    "  <tr>\n",
    "    <td>Martina Navratilova</td>\n",
    "    <td>18</td>\n",
    "    <td>31</td>\n",
    "  </tr>\n",
    "  <tr>\n",
    "    <td>Chris Evert</td>\n",
    "    <td>18</td>\n",
    "    <td>17</td>\n",
    "  </tr>\n",
    "  <tr>\n",
    "    <td>Margeret Court</td>\n",
    "    <td>11</td>\n",
    "    <td>17</td>\n",
    "  </tr>\n",
    "</table>\n",
    "\n",
    "Based on the overall number of titles alone Serena Williams should be considered the greatest player of all time. How do these players rank when taking the years active also into account? \n",
    "\n",
    "1. Run the first code block to create the list of lists.\n",
    "2. Calculate the ratio of **titles by years active**  for each player and store as a separate variable by **indexing the top_5 list**.\n",
    "2. Add the ratio using the variable as a last value to each list by **manipulating the original top_5 list**."
   ]
  },
  {
   "cell_type": "code",
   "execution_count": null,
   "metadata": {},
   "outputs": [],
   "source": [
    "top_5 = [[\"Serena Williams\",23,25],\n",
    "         [\"Steffi Graf\",22,17],\n",
    "         [\"Martina Navratilova\",18,31],\n",
    "         [\"Chris Evert\",18,17],\n",
    "         [\"Margeret Court\",11,17]]\n",
    "print(top_5)"
   ]
  },
  {
   "cell_type": "code",
   "execution_count": null,
   "metadata": {},
   "outputs": [],
   "source": [
    "# Calculate the ratio of **titles by years active**  for each player and store as a separate variable\n",
    "# NB: Dividing two integers will also return an integer!\n",
    "\n",
    "serena_ratio = \n",
    "steffi_ratio = \n",
    "martina_ratio = \n",
    "chris_ratio = \n",
    "margeret_ratio = \n",
    "\n",
    "print(serena_ratio)\n",
    "print(steffi_ratio)\n",
    "print(martina_ratio)\n",
    "print(chris_ratio)\n",
    "print(margeret_ratio)"
   ]
  },
  {
   "cell_type": "code",
   "execution_count": 15,
   "metadata": {},
   "outputs": [],
   "source": [
    "# Add the ratio using the variable as a last value to each list using indexing\n"
   ]
  }
 ],
 "metadata": {
  "kernelspec": {
   "display_name": "Python 3",
   "language": "python",
   "name": "python3"
  },
  "language_info": {
   "codemirror_mode": {
    "name": "ipython",
    "version": 3
   },
   "file_extension": ".py",
   "mimetype": "text/x-python",
   "name": "python",
   "nbconvert_exporter": "python",
   "pygments_lexer": "ipython3",
   "version": "3.7.4"
  }
 },
 "nbformat": 4,
 "nbformat_minor": 2
}
