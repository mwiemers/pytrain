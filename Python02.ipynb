{
 "cells": [
  {
   "cell_type": "markdown",
   "metadata": {},
   "source": [
    "# Python 2: Strings"
   ]
  },
  {
   "cell_type": "markdown",
   "metadata": {},
   "source": [
    "In the previous session you have learned how to use numerical variables to carry out calculations in Python. In today's session you will learn about string variables which allow you to work with text. You will often have to work with string type data when working with a dataset, since categorical variables are often in string format. And also date values are stored in string format!\n",
    "\n",
    "&nbsp;\n",
    "\n",
    "\n",
    "\n",
    "<img src=\"https://lerner.co.il/wp-content/uploads/2018/07/string_shutterstock.jpg\" width=70%>\n",
    "\n",
    "\n",
    "\n",
    "### Quotes as delimiters of strings\n",
    "Python can identify a string in your code through the single or double quotes. \n",
    "\n",
    "Run both code blocks to try it out!\n"
   ]
  },
  {
   "cell_type": "code",
   "execution_count": null,
   "metadata": {},
   "outputs": [],
   "source": [
    "print('Hello Python')"
   ]
  },
  {
   "cell_type": "code",
   "execution_count": null,
   "metadata": {},
   "outputs": [],
   "source": [
    "print(\"Hello Python\")"
   ]
  },
  {
   "cell_type": "markdown",
   "metadata": {},
   "source": [
    "Every opening quote has to be matched to a closing quote.\n",
    "\n",
    "Guess the error type Python will return before running the print statement below."
   ]
  },
  {
   "cell_type": "code",
   "execution_count": null,
   "metadata": {},
   "outputs": [],
   "source": [
    "print('Hello Python)"
   ]
  },
  {
   "cell_type": "markdown",
   "metadata": {},
   "source": [
    "\n",
    "&nbsp;\n",
    "\n",
    "### Types of characters a string can handle\n",
    "\n",
    "A string can be composed of three types of characters:\n",
    "- letters a-z, A-Z\n",
    "- numbers 0-9\n",
    "- punctuation marks ! ? , . - $ £ % € ¦ { } [ ] ( ) \\ / | ...\n",
    "\n",
    "Basically every type of character you can produce with your keyboard, can be a character in a string, even the hidden ones!"
   ]
  },
  {
   "cell_type": "code",
   "execution_count": null,
   "metadata": {},
   "outputs": [],
   "source": [
    "print(\"What the #$@&%*! is the shortcut to print the ‰ symbol???\")"
   ]
  },
  {
   "cell_type": "markdown",
   "metadata": {},
   "source": [
    "\n",
    "&nbsp;\n",
    "\n",
    "\n",
    "### Using single and double quotes *inside a string*\n",
    "\n",
    "What if you want to include quotations inside a string?\n",
    "\n",
    "When you use double quotes as the delimiter, the single quote inside the string will be treated as a normal character and, since Python will wait for the next double quote to indicate the end of the string."
   ]
  },
  {
   "cell_type": "code",
   "execution_count": null,
   "metadata": {},
   "outputs": [],
   "source": [
    "print(\"You can't sit on Sheldon's spot!\")"
   ]
  },
  {
   "cell_type": "markdown",
   "metadata": {},
   "source": [
    "### Task 1\n",
    "Print the line: <pre>Sheldon has a \"girlfriend\".</pre>\n"
   ]
  },
  {
   "cell_type": "code",
   "execution_count": null,
   "metadata": {},
   "outputs": [],
   "source": []
  },
  {
   "cell_type": "markdown",
   "metadata": {},
   "source": [
    "\n",
    "&nbsp;\n",
    "\n",
    "&nbsp;\n",
    "\n",
    "## String operations\n",
    "\n",
    "You can use the * and + operator on strings. \n",
    "\n",
    "Try to guess the function the + and * operator might have for strings before running the code block."
   ]
  },
  {
   "cell_type": "code",
   "execution_count": null,
   "metadata": {},
   "outputs": [],
   "source": [
    "print('How about ' + 'THIS?')"
   ]
  },
  {
   "cell_type": "code",
   "execution_count": null,
   "metadata": {},
   "outputs": [],
   "source": [
    "print('Hey! ' * 3)"
   ]
  },
  {
   "cell_type": "markdown",
   "metadata": {},
   "source": [
    "### Task 2\n",
    "\n",
    "1. Print the below string without typing WOW! more than once \n",
    "<pre>WOW! WOW! WOW!</pre> \n"
   ]
  },
  {
   "cell_type": "code",
   "execution_count": null,
   "metadata": {},
   "outputs": [],
   "source": []
  },
  {
   "cell_type": "markdown",
   "metadata": {},
   "source": [
    "2. Print the below string without typing Hey! more than once \n",
    "<pre>I said: Hey! Hey! Hey! </pre> \n"
   ]
  },
  {
   "cell_type": "code",
   "execution_count": null,
   "metadata": {},
   "outputs": [],
   "source": []
  },
  {
   "cell_type": "markdown",
   "metadata": {},
   "source": [
    "3. Print the below string without typing the space more than once. There should be 7 spaces between the two X's\n",
    "<pre>X &nbsp;  &nbsp; &nbsp; X</pre> "
   ]
  },
  {
   "cell_type": "code",
   "execution_count": null,
   "metadata": {},
   "outputs": [],
   "source": []
  },
  {
   "cell_type": "markdown",
   "metadata": {},
   "source": [
    "\n",
    "&nbsp;\n",
    "\n",
    "&nbsp;\n",
    "\n",
    "## String variables"
   ]
  },
  {
   "cell_type": "markdown",
   "metadata": {},
   "source": [
    "You can create variables for strings just as for numbers in Python.\n",
    "\n",
    "In the example below, we are creating a variable instructions and then print it with the print function.\n",
    "\n",
    "Run the code block!"
   ]
  },
  {
   "cell_type": "code",
   "execution_count": null,
   "metadata": {},
   "outputs": [],
   "source": [
    "instruction = \"Use a variable to store a string!\"\n",
    "print(instruction)"
   ]
  },
  {
   "cell_type": "markdown",
   "metadata": {},
   "source": [
    "### Task 3\n",
    "\n",
    "1. Assign the expression you printed in the previous task, *I said: Hey! Hey! Hey!*, to a variable *msg*\n",
    "2. Print the variable."
   ]
  },
  {
   "cell_type": "code",
   "execution_count": null,
   "metadata": {},
   "outputs": [],
   "source": [
    "\n"
   ]
  },
  {
   "cell_type": "markdown",
   "metadata": {},
   "source": [
    "\n",
    "&nbsp;\n",
    "\n",
    "### Working with string variables\n",
    "\n",
    "Similar to how you can carry out numerical calculations with numerical variables, you can carry out string operations with string variables.\n",
    "\n",
    "### Task 4\n",
    "\n",
    "Run the block below.\n",
    "\n",
    "You will notice the output doesn't look as expected. A space is missing after the first sentence. There are 3 ways to add a space to make the correct the output. Can you think of all three ways? "
   ]
  },
  {
   "cell_type": "code",
   "execution_count": null,
   "metadata": {},
   "outputs": [],
   "source": [
    "instruction_1 = \"Create a variable for your string.\"\n",
    "instruction_2 = \"Then print the variable!\"\n",
    "instructions = instruction_1 + instruction_2\n",
    "print(instructions)"
   ]
  },
  {
   "cell_type": "markdown",
   "metadata": {},
   "source": [
    "### Task 5\n",
    "\n",
    "1. Create a variable first_name for your first name\n",
    "2. Create a variable last_name for your last name\n",
    "3. Create a variable age for your age\n",
    "4. Print a message that reads as the example below\n",
    "\n",
    "<pre>Hello Paul McCartney. You are 77 years old.</pre> \n"
   ]
  },
  {
   "cell_type": "code",
   "execution_count": null,
   "metadata": {},
   "outputs": [],
   "source": [
    "\n",
    "\n",
    "\n"
   ]
  },
  {
   "cell_type": "markdown",
   "metadata": {},
   "source": [
    "\n",
    "&nbsp;\n",
    "\n",
    "### Re-assigning variables\n",
    "\n",
    "Below is an example using numerical variables how you can re-assign a value to an existing variable by referring to the variable itself. This way, you can for instance increase the current value by 1 or any other number for that matter."
   ]
  },
  {
   "cell_type": "code",
   "execution_count": 58,
   "metadata": {},
   "outputs": [
    {
     "name": "stdout",
     "output_type": "stream",
     "text": [
      "11\n"
     ]
    }
   ],
   "source": [
    "total = 10\n",
    "total = total + 1\n",
    "print(total)"
   ]
  },
  {
   "cell_type": "markdown",
   "metadata": {},
   "source": [
    "### Task 6\n",
    "\n",
    "You can do the same with string variables!\n",
    "\n",
    "1. Create a variable *name* with your first name\n",
    "2. Add your second name to *name* variable\n",
    "3. Print the *name* variable"
   ]
  },
  {
   "cell_type": "code",
   "execution_count": null,
   "metadata": {},
   "outputs": [],
   "source": [
    "\n",
    "\n"
   ]
  },
  {
   "cell_type": "markdown",
   "metadata": {},
   "source": [
    "### Task 7\n",
    "\n",
    "The **\\n** string is a special string that will produce a line break within a string.\n",
    "\n",
    "1. Update the *msg* variable from Task 4 by adding the **\\n** string to itself.\n",
    "2. Update the *msg* variable by multiplying it 3 times.\n",
    "3. Print the *msg* variable\n",
    "\n",
    "Your output should look similar to this:\n",
    "\n",
    "<pre>Hello Paul McCartney. You are 77 years old. \n",
    "Hello Paul McCartney. You are 77 years old.\n",
    "Hello Paul McCartney. You are 77 years old.</pre>"
   ]
  },
  {
   "cell_type": "code",
   "execution_count": null,
   "metadata": {},
   "outputs": [],
   "source": [
    "\n",
    "\n"
   ]
  },
  {
   "cell_type": "markdown",
   "metadata": {},
   "source": [
    "\n",
    "&nbsp;\n",
    "\n",
    "&nbsp;\n",
    "\n",
    "## Input function\n",
    "\n",
    "The input function allows you to ask the user for input. Whatever the user enters as input will be assigned to the \n",
    "variable that you specify before the input function call.\n",
    "\n",
    "\n",
    "Let us go through an example:\n",
    "1. Run the code block below.\n",
    "    \n",
    "    You will notice that the string <span style=\"font-family:consolas\" >'What is your name? '</span>, which we entered as the argument to the input function, is printed next to a box where the user can enter his input. </p>\n",
    "\n",
    "\n",
    "2. Enter your name in the box and hit the Enter key."
   ]
  },
  {
   "cell_type": "code",
   "execution_count": null,
   "metadata": {},
   "outputs": [],
   "source": [
    "name = input('What is your name? ')"
   ]
  },
  {
   "cell_type": "markdown",
   "metadata": {},
   "source": [
    "3. Print the *name* variable in the block below.\n",
    "\n",
    "    By adding <span style=\"font-family:consolas\" >name = </span> before the input function call, we told Python to assign the what the user enters as input to the variable *name*."
   ]
  },
  {
   "cell_type": "code",
   "execution_count": null,
   "metadata": {},
   "outputs": [],
   "source": [
    "print(name)"
   ]
  },
  {
   "cell_type": "markdown",
   "metadata": {},
   "source": [
    "### Task 8\n",
    "\n",
    "1. Use the input function to as the user for his favourite food, colour and book\n",
    "2. Use the print function to print a statement like below\n",
    "\n",
    "<pre>Your favourite food is pizza\n",
    "Your favourite colour is blue\n",
    "Your favourite book is Harry Potter and the Philosopher's Stone</pre>"
   ]
  },
  {
   "cell_type": "code",
   "execution_count": null,
   "metadata": {},
   "outputs": [],
   "source": []
  },
  {
   "cell_type": "markdown",
   "metadata": {},
   "source": [
    "\n",
    "&nbsp;\n",
    "\n",
    "&nbsp;\n",
    "\n",
    "## Final task - Please give us your feedback!\n",
    "\n",
    "This is the first time that we are exploring a remote learning format for our workshops and we would be very grateful if you could take **1 min** before the end of the workshop to get your feedback!\n",
    "\n",
    "[Click here to open the survey!](https://lse.eu.qualtrics.com/jfe/form/SV_9zagWkOtzNhmqt7?course=D022-P1NV&topic=Python&cohort=PILOT)"
   ]
  },
  {
   "cell_type": "markdown",
   "metadata": {},
   "source": [
    "\n",
    "&nbsp;\n",
    "\n",
    "&nbsp;\n",
    "\n",
    "\n",
    "## Individual coding challenge: Printing rectangles\n",
    "\n",
    "1. Look at the code below, which produces a rectangle\n",
    "    \n",
    "    The width variable determines the width of the rectanble by specifying a factor that multiplies the x's in the third and last line and that also multiplies the spaces in the 4th to 6th line.\n",
    "\n",
    "\n",
    "2. Play around with changing the value for width to see how it changes the width of the rectangle. For which values will the code produce an invalid output?\n",
    "\n",
    "\n",
    "3. Add a variable called outline that specifies a character to be used for the outline and change the print statements so that the variablel will be used as the outline as the rectangle.\n",
    "\n",
    "\n",
    "4. Do the same for the fill of the rectangle. Create a variable fill, assign a value to it and change the print statements so that \n",
    "the variable will be used as the fill of the rectangle.\n",
    "\n",
    "\n",
    "5. Use the input function for the fill and outline variable to ask the user to enter a character for those variables.\n"
   ]
  },
  {
   "cell_type": "code",
   "execution_count": 1,
   "metadata": {},
   "outputs": [
    {
     "name": "stdout",
     "output_type": "stream",
     "text": [
      "xxxxxxxxxx\n",
      "x        x\n",
      "x        x\n",
      "x        x\n",
      "xxxxxxxxxx\n"
     ]
    }
   ],
   "source": [
    "width = 10\n",
    "\n",
    "print('x'*width)\n",
    "print('x' + ' '*(width-2) + 'x')\n",
    "print('x' + ' '*(width-2) + 'x')\n",
    "print('x' + ' '*(width-2) + 'x')\n",
    "print('x'*width)"
   ]
  },
  {
   "cell_type": "code",
   "execution_count": null,
   "metadata": {},
   "outputs": [],
   "source": []
  }
 ],
 "metadata": {
  "kernelspec": {
   "display_name": "Python 3",
   "language": "python",
   "name": "python3"
  },
  "language_info": {
   "codemirror_mode": {
    "name": "ipython",
    "version": 3
   },
   "file_extension": ".py",
   "mimetype": "text/x-python",
   "name": "python",
   "nbconvert_exporter": "python",
   "pygments_lexer": "ipython3",
   "version": "3.7.4"
  }
 },
 "nbformat": 4,
 "nbformat_minor": 2
}
